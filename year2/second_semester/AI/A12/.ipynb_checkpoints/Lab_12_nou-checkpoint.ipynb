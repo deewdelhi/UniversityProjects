{
 "cells": [
  {
   "cell_type": "markdown",
   "metadata": {},
   "source": [
    "## Lab. 12\n",
    "\n",
    "### Solve the following problem using Genetic Algorithms:\n",
    "\n",
    "\n",
    "Problem: Weighted N-Queen Problem\n",
    "\n",
    "\n",
    "You are given an N×N chessboard, and each cell of the board has an associated weight. Your task is to find a valid placement of N queens such that the total weight of the queens is maximized, and no two queens threaten each other.\n",
    "\n"
   ]
  },
  {
   "cell_type": "markdown",
   "metadata": {},
   "source": [
    "\n",
    "\n",
    "In the traditional N-Queen Problem, the goal is to place N queens on an N×N chessboard in such a way that no two queens threaten each other. In this variation, we introduce weights to the queens and aim to find a placement that maximizes the total weight of the queens while satisfying the constraint of non-threatening positions.\n",
    "\n",
    "\n",
    "Constraints:\n",
    "\n",
    "1. There should be exactly one queen in each row and each column.\n",
    "2. No two queens should be placed in the same diagonal, i.e., they should not threaten each other.\n",
    "3. The placement should maximize the total weight of the queens.\n",
    "\n",
    "\n",
    "Representation:\n",
    "\n",
    "Use a permutation-based representation. Each permutation represents the column position of the queen for each row. \n",
    "\n",
    "For example, if N=4, a valid permutation [2, 4, 1, 3] indicates that the queen in the first row is placed in column 2, the queen in the second row is placed in column 4, and so on.\n",
    "\n",
    "\n",
    "Genetic Algorithm Steps:\n",
    "\n",
    "1. *Initialization*: Generate an initial population of permutations randomly.\n",
    "\n",
    "2. *Fitness Evaluation*: Evaluate the fitness of each permutation by calculating the total weight of the queens while considering the non-threatening positions.\n",
    "\n",
    "3. *Selection*: Select a subset of permutations from the population based on their fitness, using selection techniques like tournament selection or roulette wheel selection.\n",
    "\n",
    "4. *Crossover*: Perform crossover (recombination) on the selected permutations to create new offspring permutations.\n",
    "\n",
    "5. *Mutation*: Introduce random changes (mutations) in the offspring permutations to maintain diversity in the population.\n",
    "\n",
    "6. *Fitness Evaluation for the new individuals*: Evaluate the fitness of the new population.\n",
    "\n",
    "7. *Form the new population*: Select the surviving individuals based on scores, with chances direct proportional with their performance.\n",
    "\n",
    "8. Repeat steps 3-7 for a certain number of generations or until a termination condition is met (e.g., a maximum number of iterations or a satisfactory solution is found).\n",
    "\n",
    "\n",
    "9. *Termination*: Return the best-performing individual (permutation) found as the solution to the problem.\n",
    "\n",
    "Note: The fitness function used in this problem should calculate the total weight of the queens based on the positions specified by the permutation. Additionally, the fitness function should penalize solutions that violate the non-threatening constraint by assigning a lower fitness score to such permutations."
   ]
  },
  {
   "cell_type": "code",
   "execution_count": 1,
   "metadata": {},
   "outputs": [
    {
     "name": "stdout",
     "output_type": "stream",
     "text": [
      "Permutation 1: [4, 3, 2, 1]\n",
      "Permutation 2: [1, 3, 2, 4]\n",
      "Permutation 3: [4, 2, 1, 3]\n",
      "Permutation 4: [1, 2, 3, 4]\n",
      "Permutation 5: [3, 4, 1, 2]\n",
      "Permutation 6: [3, 2, 1, 4]\n",
      "Permutation 7: [1, 4, 2, 3]\n",
      "Permutation 8: [2, 1, 3, 4]\n",
      "Permutation 9: [3, 2, 1, 4]\n",
      "Permutation 10: [1, 2, 3, 4]\n",
      "Permutation 11: [4, 1, 2, 3]\n",
      "Permutation 12: [1, 2, 4, 3]\n",
      "Permutation 13: [3, 1, 2, 4]\n",
      "Permutation 14: [3, 4, 1, 2]\n",
      "Permutation 15: [3, 2, 4, 1]\n",
      "Permutation 16: [2, 1, 4, 3]\n"
     ]
    }
   ],
   "source": [
    "# 1.Initialization: Generate an initial population of permutations randomly.\n",
    "\n",
    "import random\n",
    "\n",
    "def generate_initial_population(population_size, N):\n",
    "    population = []\n",
    "    for _ in range(population_size):\n",
    "        permutation = random.sample(range(1, N + 1), N)\n",
    "        population.append(permutation)\n",
    "    return population\n",
    "\n",
    "population_size = 16\n",
    "N = 4\n",
    "\n",
    "initial_population = generate_initial_population(population_size, N)\n",
    "\n",
    "for i, permutation in enumerate(initial_population):\n",
    "    print(f\"Permutation {i+1}: {permutation}\")"
   ]
  },
  {
   "cell_type": "code",
   "execution_count": 2,
   "metadata": {},
   "outputs": [
    {
     "name": "stdout",
     "output_type": "stream",
     "text": [
      "Permutation 1 Fitness: -6\n",
      "Permutation 2 Fitness: 7\n",
      "Permutation 3 Fitness: 10\n",
      "Permutation 4 Fitness: -4\n",
      "Permutation 5 Fitness: -2\n",
      "Permutation 6 Fitness: 0\n",
      "Permutation 7 Fitness: 7\n",
      "Permutation 8 Fitness: 7\n",
      "Permutation 9 Fitness: 0\n",
      "Permutation 10 Fitness: -4\n",
      "Permutation 11 Fitness: 0\n",
      "Permutation 12 Fitness: 7\n",
      "Permutation 13 Fitness: 11\n",
      "Permutation 14 Fitness: -2\n",
      "Permutation 15 Fitness: 6\n",
      "Permutation 16 Fitness: 2\n"
     ]
    }
   ],
   "source": [
    "# 2.Fitness evaluation\n",
    "weights = [[2, 1, 4, 3],\n",
    "           [3, 4, 1, 2],\n",
    "           [4, 3, 2, 1],\n",
    "           [1, 2, 3, 4]]\n",
    "\n",
    "def calculate_fitness(permutation, weights):\n",
    "    fitness = 0\n",
    "    N = len(permutation)\n",
    "    for i in range(N):\n",
    "        queen_column = permutation[i] - 1\n",
    "        fitness += weights[i][queen_column]\n",
    "        for j in range(i + 1, N):\n",
    "            if abs(queen_column - (permutation[j] - 1)) == abs(i - j):\n",
    "                fitness -= weights[i][queen_column]  # Penalize threatening positions\n",
    "    return fitness\n",
    "\n",
    "fitness_values = []\n",
    "for permutation in initial_population:\n",
    "    fitness = calculate_fitness(permutation, weights)\n",
    "    fitness_values.append(fitness)\n",
    "    \n",
    "for i, fitness in enumerate(fitness_values):\n",
    "    print(f\"Permutation {i+1} Fitness: {fitness}\")"
   ]
  },
  {
   "cell_type": "code",
   "execution_count": 3,
   "metadata": {},
   "outputs": [
    {
     "name": "stdout",
     "output_type": "stream",
     "text": [
      "[[3, 1, 2, 4], [4, 2, 1, 3], [1, 4, 2, 3], [2, 1, 3, 4], [3, 1, 2, 4], [3, 1, 2, 4], [4, 2, 1, 3], [3, 1, 2, 4], [1, 2, 4, 3], [2, 1, 4, 3], [3, 1, 2, 4], [3, 1, 2, 4], [4, 2, 1, 3], [1, 2, 4, 3], [4, 2, 1, 3], [3, 1, 2, 4]]\n"
     ]
    }
   ],
   "source": [
    "# 3.Selection\n",
    "\n",
    "# Roulette wheel selection assigns probabilities to each permutation based on their fitness, \n",
    "# and individuals are selected probabilistically.\n",
    "\n",
    "# Tournament selection involves randomly selecting a few individuals from the population \n",
    "# and choosing the one with the highest fitness.\n",
    "def tournament_selection(population, fitness_values, tournament_size):\n",
    "    selected = []\n",
    "    for _ in range(len(population)):\n",
    "        participants = random.sample(range(len(population)), tournament_size)\n",
    "        winner = max(participants, key=lambda x: fitness_values[x])\n",
    "        selected.append(population[winner])\n",
    "    return selected\n",
    "\n",
    "tournament_size = 5\n",
    "\n",
    "selected_population = tournament_selection(initial_population, fitness_values, tournament_size)\n",
    "\n",
    "print(selected_population)"
   ]
  },
  {
   "cell_type": "code",
   "execution_count": 4,
   "metadata": {},
   "outputs": [
    {
     "name": "stdout",
     "output_type": "stream",
     "text": [
      "[[3, 2, 1, 3], [4, 1, 2, 4], [1, 4, 2, 4], [2, 1, 3, 3], [3, 1, 2, 4], [3, 1, 2, 4], [4, 1, 2, 4], [3, 2, 1, 3], [1, 2, 4, 3], [2, 1, 4, 3], [3, 1, 2, 4], [3, 1, 2, 4], [4, 2, 4, 3], [1, 2, 1, 3], [4, 2, 2, 4], [3, 1, 1, 3]]\n"
     ]
    }
   ],
   "source": [
    "# 4. Crossover\n",
    "\n",
    "# In the context of the Weighted N-Queen Problem, a crossover operation can exchange genetic information (queen positions) \n",
    "# between two parent permutations to generate new offspring.\n",
    "\n",
    "def crossover(parent1, parent2):\n",
    "    N = len(parent1)\n",
    "    crossover_point = random.randint(1, N - 1)\n",
    "    child1 = parent1[:crossover_point] + parent2[crossover_point:]\n",
    "    child2 = parent2[:crossover_point] + parent1[crossover_point:]\n",
    "    return child1, child2\n",
    "\n",
    "offspring_population = []\n",
    "for i in range(0, len(selected_population), 2):\n",
    "    parent1 = selected_population[i]\n",
    "    parent2 = selected_population[i + 1]\n",
    "    child1, child2 = crossover(parent1, parent2)\n",
    "    offspring_population.extend([child1, child2])\n",
    "    \n",
    "print(offspring_population)"
   ]
  },
  {
   "cell_type": "code",
   "execution_count": 5,
   "metadata": {},
   "outputs": [
    {
     "name": "stdout",
     "output_type": "stream",
     "text": [
      "[[3, 2, 1, 3], [4, 1, 2, 4], [1, 4, 2, 4], [2, 1, 3, 3], [1, 3, 2, 4], [3, 1, 2, 4], [4, 1, 2, 4], [3, 2, 1, 3], [1, 2, 4, 3], [2, 1, 4, 3], [3, 1, 2, 4], [3, 1, 2, 4], [4, 2, 4, 3], [1, 2, 1, 3], [4, 2, 2, 4], [3, 3, 3, 3]]\n"
     ]
    }
   ],
   "source": [
    "# 5.Mutation: Introduce random changes (mutations) in the offspring permutations to maintain diversity in the population.\n",
    "\n",
    "def mutation(individual, mutation_rate):\n",
    "    N = len(individual)\n",
    "    for i in range(N):\n",
    "        if random.random() < mutation_rate:\n",
    "            individual[i] = random.randint(1, N)\n",
    "    return individual\n",
    "\n",
    "mutation_rate = 0.2\n",
    "\n",
    "mutated_offspring_population = [mutation(individual, mutation_rate) for individual in offspring_population]\n",
    "\n",
    "print(mutated_offspring_population)"
   ]
  },
  {
   "cell_type": "code",
   "execution_count": null,
   "metadata": {},
   "outputs": [],
   "source": []
  }
 ],
 "metadata": {
  "kernel_info": {
   "name": "python"
  },
  "kernelspec": {
   "display_name": "Python 3 (ipykernel)",
   "language": "python",
   "name": "python3"
  },
  "language_info": {
   "codemirror_mode": {
    "name": "ipython",
    "version": 3
   },
   "file_extension": ".py",
   "mimetype": "text/x-python",
   "name": "python",
   "nbconvert_exporter": "python",
   "pygments_lexer": "ipython3",
   "version": "3.9.16"
  },
  "nteract": {
   "version": "nteract-front-end@1.0.0"
  }
 },
 "nbformat": 4,
 "nbformat_minor": 2
}
